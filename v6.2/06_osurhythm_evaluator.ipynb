{
 "cells": [
  {
   "cell_type": "markdown",
   "metadata": {},
   "source": [
    "### osu!nn #6: Rhythm Predictor\n",
    "\n",
    "Calculates a map's rhythm from the music and the timing.\n",
    "\n",
    "Synthesis of \"rhythmData\"\n",
    "* rhythmModel x 1\n",
    "* momentumModel x 1\n",
    "* timingData x 1\n",
    "* (Music) x 1\n",
    "\n",
    "Synthesis Time: ~2 seconds\n",
    "\n",
    "Final edit: 2018/8/16"
   ]
  },
  {
   "cell_type": "code",
   "execution_count": 1,
   "metadata": {},
   "outputs": [],
   "source": [
    "import tensorflow as tf\n",
    "from tensorflow import keras\n",
    "import pandas as pd\n",
    "import numpy as np\n",
    "import matplotlib.pyplot as plt\n",
    "import os, re"
   ]
  },
  {
   "cell_type": "markdown",
   "metadata": {},
   "source": [
    "Some parameters here. \n",
    "\n",
    "\"note_density\" determines how many notes will be placed on the timeline, ranges from 0 to 1.\n",
    "\n",
    "\"slider_favor\" determines how the model favors sliders against circles, ranges from -1 to 1.\n",
    "\n",
    "\"dist_multiplier\" determines how the flow model has your distance multiplied. ranges from 0 to +∞. Of course +∞ is not advisable.\n",
    "\n",
    "\"divisor_favor\" determines how the model favors notes to be on X divisors starting from a beat (white, blue, red, blue), ranges from -1 to 1 each.\n",
    "\n",
    "Ranges not inclusive."
   ]
  },
  {
   "cell_type": "code",
   "execution_count": 2,
   "metadata": {},
   "outputs": [],
   "source": [
    "# TODO parameter here!!\n",
    "dist_multiplier = 1;\n",
    "note_density = 0.36;\n",
    "slider_favor = 0;\n",
    "divisor = 4;\n",
    "divisor_favor = [0] * divisor;"
   ]
  },
  {
   "cell_type": "code",
   "execution_count": 3,
   "metadata": {},
   "outputs": [
    {
     "name": "stdout",
     "output_type": "stream",
     "text": [
      "WARNING:tensorflow:From E:\\Stuff\\miniconda\\lib\\site-packages\\tensorflow\\python\\ops\\init_ops.py:97: calling GlorotUniform.__init__ (from tensorflow.python.ops.init_ops) with dtype is deprecated and will be removed in a future version.\n",
      "Instructions for updating:\n",
      "Call initializer instance with the dtype argument instead of passing it to the constructor\n",
      "WARNING:tensorflow:From E:\\Stuff\\miniconda\\lib\\site-packages\\tensorflow\\python\\ops\\init_ops.py:1251: calling VarianceScaling.__init__ (from tensorflow.python.ops.init_ops) with dtype is deprecated and will be removed in a future version.\n",
      "Instructions for updating:\n",
      "Call initializer instance with the dtype argument instead of passing it to the constructor\n",
      "WARNING:tensorflow:From E:\\Stuff\\miniconda\\lib\\site-packages\\tensorflow\\python\\ops\\init_ops.py:97: calling Zeros.__init__ (from tensorflow.python.ops.init_ops) with dtype is deprecated and will be removed in a future version.\n",
      "Instructions for updating:\n",
      "Call initializer instance with the dtype argument instead of passing it to the constructor\n",
      "WARNING:tensorflow:From E:\\Stuff\\miniconda\\lib\\site-packages\\tensorflow\\python\\ops\\init_ops.py:97: calling Orthogonal.__init__ (from tensorflow.python.ops.init_ops) with dtype is deprecated and will be removed in a future version.\n",
      "Instructions for updating:\n",
      "Call initializer instance with the dtype argument instead of passing it to the constructor\n"
     ]
    }
   ],
   "source": [
    "model = tf.keras.models.load_model(\n",
    "    \"saved_rhythm_model\",\n",
    "    custom_objects=None,\n",
    "    compile=False\n",
    ");\n",
    "model.compile(loss='mse',\n",
    "            optimizer=tf.keras.optimizers.RMSprop(0.001),\n",
    "            metrics=[keras.metrics.mae]);"
   ]
  },
  {
   "cell_type": "code",
   "execution_count": 4,
   "metadata": {},
   "outputs": [],
   "source": [
    "# root = \"..\\\\osureader\\\\mapdata_test\";\n",
    "fn = \"mapthis.npz\";\n",
    "\n",
    "def read_npz(fn):\n",
    "    with np.load(fn) as data:\n",
    "        wav_data = data[\"wav\"];\n",
    "        wav_data = np.swapaxes(wav_data, 2, 3);\n",
    "        ticks = data[\"ticks\"];\n",
    "        timestamps = data[\"timestamps\"];\n",
    "        extra = data[\"extra\"];\n",
    "        \n",
    "        # Extra vars\n",
    "        bpms = extra[0];\n",
    "        slider_lengths = extra[1];\n",
    "        ex1 = (60000 / bpms) / 500 - 1;\n",
    "        ex2 = bpms / 120 - 1;\n",
    "        ex3 = slider_lengths / 150 - 1;\n",
    "        \n",
    "        div_data = np.array([divisor_array(k) + [ex1[k], ex2[k], ex3[k]] for k in ticks]);\n",
    "    return wav_data, div_data, ticks, timestamps;\n",
    "\n",
    "def divisor_array(k):\n",
    "    d_range = list(range(0, divisor));\n",
    "    return [int(k % divisor == d) for d in d_range];\n",
    "\n",
    "test_data, div_data, ticks, timestamps = read_npz(fn);"
   ]
  },
  {
   "cell_type": "code",
   "execution_count": 5,
   "metadata": {},
   "outputs": [
    {
     "name": "stdout",
     "output_type": "stream",
     "text": [
      "696 notes predicted.\n"
     ]
    }
   ],
   "source": [
    "# Make time intervals from test data\n",
    "time_interval = 16;\n",
    "if test_data.shape[0]%time_interval > 0:\n",
    "    test_data = test_data[:-(test_data.shape[0]%time_interval)];\n",
    "    div_data = div_data[:-(div_data.shape[0]%time_interval)];\n",
    "test_data2 = np.reshape(test_data, (-1, time_interval, test_data.shape[1], test_data.shape[2], test_data.shape[3]))\n",
    "div_data2 = np.reshape(div_data, (-1, time_interval, div_data.shape[1]))\n",
    "\n",
    "test_predictions = model.predict([test_data2, div_data2]);\n",
    "preds = test_predictions.reshape(-1, test_predictions.shape[2]);\n",
    "\n",
    "# Favor sliders a little\n",
    "preds[:, 2] += slider_favor;\n",
    "divs = div_data2.reshape(-1, div_data2.shape[2]);\n",
    "margin = np.sum([divisor_favor[k] * divs[:, k] for k in range(0, divisor)]);\n",
    "\n",
    "preds[:, 0] += margin;\n",
    "\n",
    "# Predict is_obj using note_density\n",
    "obj_preds = preds[:, 0];\n",
    "target_count = np.round(note_density * obj_preds.shape[0]).astype(int);\n",
    "borderline = np.sort(obj_preds)[obj_preds.shape - target_count];\n",
    "is_obj_pred = np.expand_dims(np.where(preds[:, 0] > borderline, 1, 0), axis=1);\n",
    "\n",
    "obj_type_pred = np.sign(preds[:, 1:4] - np.tile(np.expand_dims(np.max(preds[:, 1:4], axis=1), 1), (1, 3))) + 1;\n",
    "others_pred = (1 + np.sign(preds[:, 4:test_predictions.shape[1]] + 0.5)) / 2;\n",
    "another_pred_result = np.concatenate([is_obj_pred, is_obj_pred * obj_type_pred, others_pred], axis=1);\n",
    "\n",
    "print(\"{} notes predicted.\".format(np.sum(is_obj_pred)));"
   ]
  },
  {
   "cell_type": "code",
   "execution_count": 6,
   "metadata": {},
   "outputs": [],
   "source": [
    "def load_momentum_minmax(fn):\n",
    "    data = np.load(fn);\n",
    "    return data;\n",
    "mommax, mommin = load_momentum_minmax(\"momentum_minmax.npy\");\n",
    "\n",
    "momentum_model = tf.keras.models.load_model(\n",
    "    \"saved_rhythm_model_momentums\",\n",
    "    custom_objects=None,\n",
    "    compile=False\n",
    ");\n",
    "momentum_model.compile(loss='mse',\n",
    "            optimizer=tf.keras.optimizers.RMSprop(0.001),\n",
    "            metrics=[keras.metrics.mae]);"
   ]
  },
  {
   "cell_type": "code",
   "execution_count": 7,
   "metadata": {},
   "outputs": [],
   "source": [
    "momentum_predictions_output = momentum_model.predict([test_data2, div_data2]);\n",
    "momentum_predictions = (momentum_predictions_output.reshape(-1, 2) + 1) / 2 / 0.8 * (mommax - mommin) + mommin;"
   ]
  },
  {
   "cell_type": "markdown",
   "metadata": {},
   "source": [
    "Save the rhythm data and progress to #7."
   ]
  },
  {
   "cell_type": "code",
   "execution_count": 8,
   "metadata": {},
   "outputs": [],
   "source": [
    "np.savez_compressed(\"rhythm_data\", objs = is_obj_pred[:, 0], predictions = another_pred_result, timestamps = timestamps, ticks = ticks, momenta = momentum_predictions, sv = (div_data[:,6] + 1) * 150, dist_multiplier = dist_multiplier);"
   ]
  },
  {
   "cell_type": "code",
   "execution_count": 9,
   "metadata": {},
   "outputs": [],
   "source": [
    "import json\n",
    "\n",
    "rhythm_json = {\n",
    "    \"objs\": is_obj_pred[:, 0].tolist(), \n",
    "    \"predictions\": another_pred_result.tolist(),\n",
    "    \"timestamps\": timestamps.tolist(),\n",
    "    \"ticks\": ticks.tolist(),\n",
    "    \"momenta\": momentum_predictions.tolist(),\n",
    "    \"sv\": ((div_data[:,6] + 1) * 150).tolist(),\n",
    "    \"distMultiplier\": dist_multiplier\n",
    "};\n",
    "with open(\"evaluatedRhythm.json\", \"w\") as er:\n",
    "    json.dump(rhythm_json, er);"
   ]
  },
  {
   "cell_type": "code",
   "execution_count": null,
   "metadata": {},
   "outputs": [],
   "source": []
  }
 ],
 "metadata": {
  "kernelspec": {
   "display_name": "Python 3",
   "language": "python",
   "name": "python3"
  },
  "language_info": {
   "codemirror_mode": {
    "name": "ipython",
    "version": 3
   },
   "file_extension": ".py",
   "mimetype": "text/x-python",
   "name": "python",
   "nbconvert_exporter": "python",
   "pygments_lexer": "ipython3",
   "version": "3.7.7"
  }
 },
 "nbformat": 4,
 "nbformat_minor": 2
}

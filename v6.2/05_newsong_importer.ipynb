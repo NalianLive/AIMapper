{
 "cells": [
  {
   "cell_type": "markdown",
   "metadata": {},
   "source": [
    "### osu!nn #5: New Map Reader\n",
    "\n",
    "Reads the data from the music. This data will be used to create a whole map!\n",
    "\n",
    "Final edit: 2018/8/16"
   ]
  },
  {
   "cell_type": "markdown",
   "metadata": {},
   "source": [
    "Before you read data from the music, it needs timing.\n",
    "\n",
    "Luckily there are some BPM analyzers on the web, and those are pretty accurate, so no need of Deep Learning for that!\n",
    "\n",
    "The analyzer I used (in '14) was MixMeister BPM analyzer - its problem is lack of output for offset. There should be something better than that now!\n",
    "\n",
    "And of course, it is still better to time it yourself; some music has multiple timing sections, and BPM analyzers don't seem to support that.\n",
    "\n",
    "After timing, save the empty .osu file, and fill in the file_path variable below.\n",
    "\n",
    "You should also adjust the map parameters; namely, slider velocity. The model doesn't care about the others."
   ]
  },
  {
   "cell_type": "markdown",
   "metadata": {},
   "source": [
    "Also, FFmpeg path needed here."
   ]
  },
  {
   "cell_type": "code",
   "execution_count": 1,
   "metadata": {},
   "outputs": [],
   "source": [
    "import os, re, time\n",
    "from osureader import *\n",
    "\n",
    "# set the ffmpeg path here!!\n",
    "# add \"r\" before the path string\n",
    "\n",
    "GLOBAL_VARS[\"ffmpeg_path\"] = r\"E:\\aimapper\\ffmpeg.exe\";\n",
    "\n",
    "# linux\n",
    "# GLOBAL_VARS[\"ffmpeg_path\"] = \"ffmpeg\";\n",
    "\n",
    "# check if it works\n",
    "test_process_path(GLOBAL_VARS[\"ffmpeg_path\"]);\n",
    "\n",
    "divisor = 4;\n",
    "\n",
    "def read_new_map(file_path):\n",
    "    start = time.time()\n",
    "    read_and_save_osu_tester_file(file_path.strip(), filename=\"mapthis\", divisor=divisor);\n",
    "    end = time.time()\n",
    "    print(\"Map data saved! time = \" + str(end - start) + \" secs.\");"
   ]
  },
  {
   "cell_type": "code",
   "execution_count": 2,
   "metadata": {},
   "outputs": [
    {
     "name": "stdout",
     "output_type": "stream",
     "text": [
      "Map data saved! time = 2.6398251056671143 secs.\n"
     ]
    }
   ],
   "source": [
    "# input file here!\n",
    "# file_path = \"D:\\\\osu!\\\\Songs\\\\whitegreat poem\\\\SeikoP - Shirotae no Uta ([CSGA]Ar3sgice) [(() = ())();].osu\";\n",
    "# file_path = \"D:\\\\osu!\\\\Songs\\\\597684 Blue Reflection - Overdose\\\\Asano Hayato - OVERDOSE ([CSGA]Ar3sgice) [BR+].osu\"\n",
    "# file_path = \"D:\\\\osu!\\\\Songs\\\\Albireo Lake\\\\Asano Hayato - Albireo Lake ([CSGA]Ar3sgice) [ORibt_].osu\"\n",
    "# file_path = \"D:\\\\osu!\\\\Songs\\\\LetsLoveIkimashou\\\\NanamoriGoraku-bu - Let's Love~ de Ikimashou ([CSGA]Ar3sgice) [1234].osu\"\n",
    "# file_path = \"D:\\\\osu!\\\\Songs\\\\My Maps\\\\ask for alms\\\\emroots - ask for alms ([CSGA]Ar3sgice) [,,,,,].osu\"\n",
    "# file_path = \"D:\\\\osu!\\\\Songs\\\\My Maps\\\\cosminox192\\\\Erik McClure - Cosminox ([CSGA]Ar3sgice) [xxxxx].osu\"\n",
    "# file_path = \"D:\\\\osu!\\\\Songs\\\\952035 Nakae Mitsuki - Alchemia\\\\Nakae Mitsuki - Alchemia (Shurelia) [Aristocrat].osu\"\n",
    "# file_path = \"D:\\\\osu!\\\\Songs\\\\Need You Back\\\\ave;new feat. Sakura Saori - Need You Back ([CSGA]Ar3sgice) [history.setState()].osu\"\n",
    "file_path = r\"C:\\Users\\Lewis\\AppData\\Local\\osu!\\Songs\\beatmap-637317189396868717-250bpm metronome\\metronome - metronome (LewisTehMinerz) [it's just a fucking metronome].osu\"\n",
    "\n",
    "# start here!!!\n",
    "# file_path = \"D:\\\\osu!\\\\Songs\\\\Nhato - Hello World\\\\Nhato - Hello World ([CSGA]Ar3sgice) [Unaaaa].osu\"\n",
    "# file_path = \"D:\\\\osu!\\\\Songs\\\\My Maps\\\\LookHome2\\\\emroots - Look to the Hometown ([CSGA]Ar3sgice) [233].osu\"\n",
    "# file_path = \"D:\\\\osu!\\\\Songs\\\\Scarlet -gravitation-\\\\ave;new - Scarlet -gravitation- ([CSGA]Ar3sgice) [Scarlet Rainbow].osu\"\n",
    "# file_path = \"D:\\\\osu!\\\\Songs\\\\shinri\\\\Yano Tatsuya - Shinri e no Kestui ~Lydie~ ([CSGA]Ar3sgice) [Divine Strength].osu\"\n",
    "# file_path = \"D:\\\\osu!\\\\Songs\\\\Onaji Hoshi wo Miagete\\\\Yanagawa Kazuki - Onaji Hoshi wo Miagete ~Lydie~ ([CSGA]Ar3sgice) [Star8].osu\"\n",
    "\n",
    "# file_path = \"D:\\\\osu!\\\\Songs\\\\You're not a heroine, it's me\\\\Asano Hayato - You're not a heroine, it's me. ([CSGA]Ar3sgice) [Megumi].osu\"\n",
    "\n",
    "read_new_map(file_path);"
   ]
  },
  {
   "cell_type": "markdown",
   "metadata": {},
   "source": [
    "That's it! We can now proceed to the next notebook."
   ]
  }
 ],
 "metadata": {
  "kernelspec": {
   "display_name": "Python 3",
   "language": "python",
   "name": "python3"
  },
  "language_info": {
   "codemirror_mode": {
    "name": "ipython",
    "version": 3
   },
   "file_extension": ".py",
   "mimetype": "text/x-python",
   "name": "python",
   "nbconvert_exporter": "python",
   "pygments_lexer": "ipython3",
   "version": "3.7.7"
  }
 },
 "nbformat": 4,
 "nbformat_minor": 2
}
